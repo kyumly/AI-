{
 "nbformat": 4,
 "nbformat_minor": 0,
 "metadata": {
  "colab": {
   "name": "교차검증 그리드 서치.ipynb",
   "provenance": [],
   "authorship_tag": "ABX9TyNVUGrYfzK/wM8xnkoZzi3E"
  },
  "kernelspec": {
   "name": "python3",
   "display_name": "Python 3"
  },
  "language_info": {
   "name": "python"
  }
 },
 "cells": [
  {
   "cell_type": "code",
   "execution_count": 2,
   "metadata": {
    "id": "HXxzizcwKuSh"
   },
   "outputs": [],
   "source": [
    "import pandas as pd\n",
    "wine = pd.read_csv('https://bit.ly/wine_csv_data')"
   ]
  },
  {
   "cell_type": "code",
   "source": [
    "data = wine[['alcohol','sugar', 'pH']].to_numpy()\n",
    "target = wine[['class']]\n",
    "\n",
    "print(data.shape, target.shape)"
   ],
   "metadata": {
    "colab": {
     "base_uri": "https://localhost:8080/"
    },
    "id": "y4ls1PXYLUc0",
    "executionInfo": {
     "status": "ok",
     "timestamp": 1642760984019,
     "user_tz": -540,
     "elapsed": 305,
     "user": {
      "displayName": "김승겸/컴퓨터정보과",
      "photoUrl": "https://lh3.googleusercontent.com/a/default-user=s64",
      "userId": "09781216741207143561"
     }
    },
    "outputId": "b63ae0aa-475b-4d22-95a7-4be653fde41f"
   },
   "execution_count": 3,
   "outputs": [
    {
     "name": "stdout",
     "output_type": "stream",
     "text": [
      "(6497, 3) (6497, 1)\n"
     ]
    }
   ]
  },
  {
   "cell_type": "code",
   "source": [
    "from sklearn.model_selection import train_test_split\n",
    "\n",
    "train_x, train_y, target_x, target_y = train_test_split(data, target, test_size=0.2, \n",
    "                                                        random_state=42)\n"
   ],
   "metadata": {
    "id": "9XLAegL0LuNb"
   },
   "execution_count": 4,
   "outputs": []
  },
  {
   "cell_type": "code",
   "source": [
    "sub_input, val_input, sub_target, val_target = train_test_split(train_x, target_x,\n",
    "                                                                test_size=0.2, random_state=42)"
   ],
   "metadata": {
    "id": "ivCRNdqnMYsI"
   },
   "execution_count": 5,
   "outputs": []
  },
  {
   "cell_type": "code",
   "source": [
    "print(sub_input.shape, val_input.shape)\n",
    "print(train_y.shape, target_y.shape)"
   ],
   "metadata": {
    "colab": {
     "base_uri": "https://localhost:8080/"
    },
    "id": "Hv7LQIvbM1_N",
    "executionInfo": {
     "status": "ok",
     "timestamp": 1642762052422,
     "user_tz": -540,
     "elapsed": 24,
     "user": {
      "displayName": "김승겸/컴퓨터정보과",
      "photoUrl": "https://lh3.googleusercontent.com/a/default-user=s64",
      "userId": "09781216741207143561"
     }
    },
    "outputId": "8dc0c7c3-0ff4-4e42-8182-519a7ae9e2d6"
   },
   "execution_count": 6,
   "outputs": [
    {
     "name": "stdout",
     "output_type": "stream",
     "text": [
      "(4157, 3) (1040, 3)\n",
      "(1300, 3) (1300, 1)\n"
     ]
    }
   ]
  },
  {
   "cell_type": "code",
   "source": [
    "from sklearn.tree import DecisionTreeClassifier\n",
    "dt = DecisionTreeClassifier(random_state=42)\n",
    "dt.fit(sub_input, sub_target)\n",
    "print(dt.score(sub_input, sub_target))\n",
    "print(dt.score(val_input, val_target))"
   ],
   "metadata": {
    "id": "0OyAbzVTM8Kx",
    "colab": {
     "base_uri": "https://localhost:8080/"
    },
    "executionInfo": {
     "status": "ok",
     "timestamp": 1642762169454,
     "user_tz": -540,
     "elapsed": 457,
     "user": {
      "displayName": "김승겸/컴퓨터정보과",
      "photoUrl": "https://lh3.googleusercontent.com/a/default-user=s64",
      "userId": "09781216741207143561"
     }
    },
    "outputId": "1edc0bc2-b772-463d-f818-88bbde833378"
   },
   "execution_count": 7,
   "outputs": [
    {
     "name": "stdout",
     "output_type": "stream",
     "text": [
      "0.9971133028626413\n",
      "0.864423076923077\n"
     ]
    }
   ]
  },
  {
   "cell_type": "code",
   "source": [
    "from sklearn.model_selection import cross_validate\n",
    "\n",
    "scores = cross_validate(dt, train_x, target_x)\n",
    "print(scores)"
   ],
   "metadata": {
    "colab": {
     "base_uri": "https://localhost:8080/"
    },
    "id": "CSbI2uxvQWdF",
    "executionInfo": {
     "status": "ok",
     "timestamp": 1642762584202,
     "user_tz": -540,
     "elapsed": 19,
     "user": {
      "displayName": "김승겸/컴퓨터정보과",
      "photoUrl": "https://lh3.googleusercontent.com/a/default-user=s64",
      "userId": "09781216741207143561"
     }
    },
    "outputId": "690368e1-a48d-4a34-9825-3dd6502d1027"
   },
   "execution_count": 8,
   "outputs": [
    {
     "name": "stdout",
     "output_type": "stream",
     "text": [
      "{'fit_time': array([0.0079968 , 0.00799775, 0.0080018 , 0.00799751, 0.00799608]), 'score_time': array([0.00100279, 0.00099921, 0.00100279, 0.00100327, 0.00100207]), 'test_score': array([0.86923077, 0.84615385, 0.87680462, 0.84889317, 0.83541867])}\n"
     ]
    }
   ]
  },
  {
   "cell_type": "code",
   "source": [
    "import numpy as np\n",
    "print(np.mean(scores['test_score']))"
   ],
   "metadata": {
    "colab": {
     "base_uri": "https://localhost:8080/"
    },
    "id": "rPB0StS9RvnV",
    "executionInfo": {
     "status": "ok",
     "timestamp": 1642762674080,
     "user_tz": -540,
     "elapsed": 275,
     "user": {
      "displayName": "김승겸/컴퓨터정보과",
      "photoUrl": "https://lh3.googleusercontent.com/a/default-user=s64",
      "userId": "09781216741207143561"
     }
    },
    "outputId": "e8746118-31c3-40b1-c6ab-b9f1042ddc8c"
   },
   "execution_count": 9,
   "outputs": [
    {
     "name": "stdout",
     "output_type": "stream",
     "text": [
      "0.855300214703487\n"
     ]
    }
   ]
  },
  {
   "cell_type": "code",
   "source": [
    "from sklearn.model_selection import StratifiedKFold\n",
    "scores = cross_validate(dt, train_x, target_x, cv=StratifiedKFold())\n",
    "print(np.mean(scores['test_score']))"
   ],
   "metadata": {
    "colab": {
     "base_uri": "https://localhost:8080/"
    },
    "id": "omIBfpJjSO85",
    "executionInfo": {
     "status": "ok",
     "timestamp": 1642762976248,
     "user_tz": -540,
     "elapsed": 298,
     "user": {
      "displayName": "김승겸/컴퓨터정보과",
      "photoUrl": "https://lh3.googleusercontent.com/a/default-user=s64",
      "userId": "09781216741207143561"
     }
    },
    "outputId": "9cf14f9f-a227-4238-f03c-aee39ebea51e"
   },
   "execution_count": 10,
   "outputs": [
    {
     "name": "stdout",
     "output_type": "stream",
     "text": [
      "0.855300214703487\n"
     ]
    }
   ]
  },
  {
   "cell_type": "code",
   "execution_count": 11,
   "outputs": [
    {
     "name": "stdout",
     "output_type": "stream",
     "text": [
      "0.8574181117533719\n"
     ]
    }
   ],
   "source": [
    "splitter = StratifiedKFold(n_splits=10, shuffle=True, random_state=42)\n",
    "scores = cross_validate(dt, train_x, target_x, cv=splitter)\n",
    "print(np.mean(scores['test_score']))"
   ],
   "metadata": {
    "collapsed": false,
    "pycharm": {
     "name": "#%%\n"
    }
   }
  },
  {
   "cell_type": "code",
   "source": [
    "from sklearn.model_selection import GridSearchCV\n",
    "\n",
    "params = {'min_impurity_decrease' : [0.0001, 0.0002, 0.0003, 0.0004, 0.0005]}\n",
    "gs = GridSearchCV(DecisionTreeClassifier(random_state=42), params,n_jobs= -1)"
   ],
   "metadata": {
    "id": "NvHLp5OZTIKG"
   },
   "execution_count": 14,
   "outputs": []
  },
  {
   "cell_type": "code",
   "execution_count": 15,
   "outputs": [
    {
     "name": "stdout",
     "output_type": "stream",
     "text": [
      "0.8653846153846154\n"
     ]
    }
   ],
   "source": [
    "gs.fit(train_x, target_x)\n",
    "dt = gs.best_estimator_\n",
    "print(dt.score(train_y, target_y))"
   ],
   "metadata": {
    "collapsed": false,
    "pycharm": {
     "name": "#%%\n"
    }
   }
  },
  {
   "cell_type": "code",
   "execution_count": null,
   "outputs": [],
   "source": [],
   "metadata": {
    "collapsed": false,
    "pycharm": {
     "name": "#%%\n"
    }
   }
  }
 ]
}