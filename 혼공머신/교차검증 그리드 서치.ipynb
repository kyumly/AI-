{
 "nbformat": 4,
 "nbformat_minor": 0,
 "metadata": {
  "colab": {
   "name": "교차검증 그리드 서치.ipynb",
   "provenance": [],
   "authorship_tag": "ABX9TyOcIhS9xjRhL4/liuhTSmr6"
  },
  "kernelspec": {
   "name": "python3",
   "display_name": "Python 3"
  },
  "language_info": {
   "name": "python"
  }
 },
 "cells": [
  {
   "cell_type": "code",
   "execution_count": 13,
   "metadata": {
    "id": "HXxzizcwKuSh",
    "executionInfo": {
     "status": "ok",
     "timestamp": 1644575393825,
     "user_tz": -540,
     "elapsed": 419,
     "user": {
      "displayName": "김승겸/컴퓨터정보과",
      "photoUrl": "https://lh3.googleusercontent.com/a/default-user=s64",
      "userId": "09781216741207143561"
     }
    }
   },
   "outputs": [],
   "source": [
    "import pandas as pd\n",
    "wine = pd.read_csv('https://bit.ly/wine_csv_data')"
   ]
  },
  {
   "cell_type": "code",
   "source": [
    "data = wine[['alcohol','sugar', 'pH']].to_numpy()\n",
    "target = wine[['class']]\n",
    "\n",
    "print(data.shape, target.shape)"
   ],
   "metadata": {
    "colab": {
     "base_uri": "https://localhost:8080/"
    },
    "id": "y4ls1PXYLUc0",
    "executionInfo": {
     "status": "ok",
     "timestamp": 1644575394111,
     "user_tz": -540,
     "elapsed": 4,
     "user": {
      "displayName": "김승겸/컴퓨터정보과",
      "photoUrl": "https://lh3.googleusercontent.com/a/default-user=s64",
      "userId": "09781216741207143561"
     }
    },
    "outputId": "eaca9018-77e8-483e-eee2-ae3a21ec8156"
   },
   "execution_count": 14,
   "outputs": [
    {
     "name": "stdout",
     "output_type": "stream",
     "text": [
      "(6497, 3) (6497, 1)\n"
     ]
    }
   ]
  },
  {
   "cell_type": "code",
   "source": [
    "from sklearn.model_selection import train_test_split\n",
    "\n",
    "train_x, train_y, target_x, target_y = train_test_split(data, target, test_size=0.2, \n",
    "                                                        random_state=42)\n"
   ],
   "metadata": {
    "id": "9XLAegL0LuNb",
    "executionInfo": {
     "status": "ok",
     "timestamp": 1644575394703,
     "user_tz": -540,
     "elapsed": 4,
     "user": {
      "displayName": "김승겸/컴퓨터정보과",
      "photoUrl": "https://lh3.googleusercontent.com/a/default-user=s64",
      "userId": "09781216741207143561"
     }
    }
   },
   "execution_count": 15,
   "outputs": []
  },
  {
   "cell_type": "code",
   "source": [
    "sub_input, val_input, sub_target, val_target = train_test_split(train_x, target_x,\n",
    "                                                                test_size=0.2, random_state=42)"
   ],
   "metadata": {
    "id": "ivCRNdqnMYsI",
    "executionInfo": {
     "status": "ok",
     "timestamp": 1644575394704,
     "user_tz": -540,
     "elapsed": 3,
     "user": {
      "displayName": "김승겸/컴퓨터정보과",
      "photoUrl": "https://lh3.googleusercontent.com/a/default-user=s64",
      "userId": "09781216741207143561"
     }
    }
   },
   "execution_count": 16,
   "outputs": []
  },
  {
   "cell_type": "code",
   "source": [
    "print(sub_input.shape, val_input.shape)\n",
    "print(train_y.shape, target_y.shape)"
   ],
   "metadata": {
    "colab": {
     "base_uri": "https://localhost:8080/"
    },
    "id": "Hv7LQIvbM1_N",
    "executionInfo": {
     "status": "ok",
     "timestamp": 1644575395139,
     "user_tz": -540,
     "elapsed": 5,
     "user": {
      "displayName": "김승겸/컴퓨터정보과",
      "photoUrl": "https://lh3.googleusercontent.com/a/default-user=s64",
      "userId": "09781216741207143561"
     }
    },
    "outputId": "e118c0c5-f617-43b9-af9a-6763e039730f"
   },
   "execution_count": 17,
   "outputs": [
    {
     "name": "stdout",
     "output_type": "stream",
     "text": [
      "(4157, 3) (1040, 3)\n",
      "(1300, 3) (1300, 1)\n"
     ]
    }
   ]
  },
  {
   "cell_type": "code",
   "source": [
    "from sklearn.tree import DecisionTreeClassifier\n",
    "dt = DecisionTreeClassifier(random_state=42)\n",
    "dt.fit(sub_input, sub_target)\n",
    "print(dt.score(sub_input, sub_target))\n",
    "print(dt.score(val_input, val_target))"
   ],
   "metadata": {
    "id": "0OyAbzVTM8Kx",
    "colab": {
     "base_uri": "https://localhost:8080/"
    },
    "executionInfo": {
     "status": "ok",
     "timestamp": 1644575395857,
     "user_tz": -540,
     "elapsed": 379,
     "user": {
      "displayName": "김승겸/컴퓨터정보과",
      "photoUrl": "https://lh3.googleusercontent.com/a/default-user=s64",
      "userId": "09781216741207143561"
     }
    },
    "outputId": "c816ace4-c389-42f0-b83e-7cd84eeb671c"
   },
   "execution_count": 18,
   "outputs": [
    {
     "name": "stdout",
     "output_type": "stream",
     "text": [
      "0.9971133028626413\n",
      "0.864423076923077\n"
     ]
    }
   ]
  },
  {
   "cell_type": "code",
   "source": [
    "from sklearn.model_selection import cross_validate\n",
    "\n",
    "scores = cross_validate(dt, train_x, target_x)\n",
    "print(scores)"
   ],
   "metadata": {
    "colab": {
     "base_uri": "https://localhost:8080/"
    },
    "id": "CSbI2uxvQWdF",
    "executionInfo": {
     "status": "ok",
     "timestamp": 1644575395858,
     "user_tz": -540,
     "elapsed": 3,
     "user": {
      "displayName": "김승겸/컴퓨터정보과",
      "photoUrl": "https://lh3.googleusercontent.com/a/default-user=s64",
      "userId": "09781216741207143561"
     }
    },
    "outputId": "cc0a6893-4919-4d09-f86f-d8dd24b75c6a"
   },
   "execution_count": 19,
   "outputs": [
    {
     "name": "stdout",
     "output_type": "stream",
     "text": [
      "{'fit_time': array([0.00799799, 0.00700116, 0.00699639, 0.00699902, 0.00901747]), 'score_time': array([0.        , 0.0010004 , 0.00099897, 0.00100112, 0.00098538]), 'test_score': array([0.86923077, 0.84615385, 0.87680462, 0.84889317, 0.83541867])}\n"
     ]
    }
   ]
  },
  {
   "cell_type": "code",
   "source": [
    "import numpy as np\n",
    "print(np.mean(scores['test_score']))"
   ],
   "metadata": {
    "colab": {
     "base_uri": "https://localhost:8080/"
    },
    "id": "rPB0StS9RvnV",
    "executionInfo": {
     "status": "ok",
     "timestamp": 1644575396509,
     "user_tz": -540,
     "elapsed": 11,
     "user": {
      "displayName": "김승겸/컴퓨터정보과",
      "photoUrl": "https://lh3.googleusercontent.com/a/default-user=s64",
      "userId": "09781216741207143561"
     }
    },
    "outputId": "f85c96b3-3323-460a-da23-6d52d31df044"
   },
   "execution_count": 20,
   "outputs": [
    {
     "name": "stdout",
     "output_type": "stream",
     "text": [
      "0.855300214703487\n"
     ]
    }
   ]
  },
  {
   "cell_type": "code",
   "source": [
    "from sklearn.model_selection import StratifiedGroupKFold\n",
    "scores = cross_validate(dt, train_x, target_x, cv=10)\n",
    "print(np.mean(scores['test_score']))"
   ],
   "metadata": {
    "colab": {
     "base_uri": "https://localhost:8080/"
    },
    "id": "omIBfpJjSO85",
    "executionInfo": {
     "status": "ok",
     "timestamp": 1644575397971,
     "user_tz": -540,
     "elapsed": 729,
     "user": {
      "displayName": "김승겸/컴퓨터정보과",
      "photoUrl": "https://lh3.googleusercontent.com/a/default-user=s64",
      "userId": "09781216741207143561"
     }
    },
    "outputId": "d4f3ebd1-2932-4864-d257-72b732e9ab29"
   },
   "execution_count": 21,
   "outputs": [
    {
     "name": "stdout",
     "output_type": "stream",
     "text": [
      "0.8616407292129834\n"
     ]
    }
   ]
  },
  {
   "cell_type": "code",
   "source": [
    "from sklearn.model_selection import GridSearchCV\n",
    "\n",
    "params = {'min_impurity_decrease' : [0.0001, 0.0002, 0.0003, 0.0004, 0.0005]}\n",
    "gs = GridSearchCV(DecisionTreeClassifier(random_state=42), params, n_jobs=-1)"
   ],
   "metadata": {
    "id": "NvHLp5OZTIKG",
    "executionInfo": {
     "status": "ok",
     "timestamp": 1644575522845,
     "user_tz": -540,
     "elapsed": 277,
     "user": {
      "displayName": "김승겸/컴퓨터정보과",
      "photoUrl": "https://lh3.googleusercontent.com/a/default-user=s64",
      "userId": "09781216741207143561"
     }
    }
   },
   "execution_count": 22,
   "outputs": []
  },
  {
   "cell_type": "code",
   "source": [
    "gs.fit(train_x, target_x)"
   ],
   "metadata": {
    "colab": {
     "base_uri": "https://localhost:8080/"
    },
    "id": "_hA77er7Vvwn",
    "executionInfo": {
     "status": "ok",
     "timestamp": 1644575537011,
     "user_tz": -540,
     "elapsed": 4335,
     "user": {
      "displayName": "김승겸/컴퓨터정보과",
      "photoUrl": "https://lh3.googleusercontent.com/a/default-user=s64",
      "userId": "09781216741207143561"
     }
    },
    "outputId": "f11cd6ef-5aad-47e3-b2c9-5e1b56275783"
   },
   "execution_count": 23,
   "outputs": [
    {
     "data": {
      "text/plain": "GridSearchCV(estimator=DecisionTreeClassifier(random_state=42), n_jobs=-1,\n             param_grid={'min_impurity_decrease': [0.0001, 0.0002, 0.0003,\n                                                   0.0004, 0.0005]})"
     },
     "execution_count": 23,
     "metadata": {},
     "output_type": "execute_result"
    }
   ]
  },
  {
   "cell_type": "code",
   "source": [
    "dt = gs.best_estimator_\n",
    "print(dt.score(train_x, target_x))"
   ],
   "metadata": {
    "colab": {
     "base_uri": "https://localhost:8080/"
    },
    "id": "tnq_E0s3VyQa",
    "executionInfo": {
     "status": "ok",
     "timestamp": 1644575604355,
     "user_tz": -540,
     "elapsed": 326,
     "user": {
      "displayName": "김승겸/컴퓨터정보과",
      "photoUrl": "https://lh3.googleusercontent.com/a/default-user=s64",
      "userId": "09781216741207143561"
     }
    },
    "outputId": "14168572-05f8-4fbf-9744-5f21c5c77d53"
   },
   "execution_count": 24,
   "outputs": [
    {
     "name": "stdout",
     "output_type": "stream",
     "text": [
      "0.9615162593804117\n"
     ]
    }
   ]
  },
  {
   "cell_type": "code",
   "source": [
    "import pandas as pd\n",
    "gs_df = pd.DataFrame(gs.cv_results_)\n"
   ],
   "metadata": {
    "id": "W0de_MszV5xw",
    "executionInfo": {
     "status": "ok",
     "timestamp": 1644576147854,
     "user_tz": -540,
     "elapsed": 358,
     "user": {
      "displayName": "김승겸/컴퓨터정보과",
      "photoUrl": "https://lh3.googleusercontent.com/a/default-user=s64",
      "userId": "09781216741207143561"
     }
    }
   },
   "execution_count": 25,
   "outputs": []
  },
  {
   "cell_type": "code",
   "source": [
    "gs_df"
   ],
   "metadata": {
    "colab": {
     "base_uri": "https://localhost:8080/",
     "height": 353
    },
    "id": "h4Q26uJuWFyv",
    "executionInfo": {
     "status": "ok",
     "timestamp": 1644576151021,
     "user_tz": -540,
     "elapsed": 33,
     "user": {
      "displayName": "김승겸/컴퓨터정보과",
      "photoUrl": "https://lh3.googleusercontent.com/a/default-user=s64",
      "userId": "09781216741207143561"
     }
    },
    "outputId": "603aa596-1b68-4aae-e854-2e755fcc973d"
   },
   "execution_count": 26,
   "outputs": [
    {
     "data": {
      "text/plain": "   mean_fit_time  std_fit_time  mean_score_time  std_score_time  \\\n0       0.009196      0.000748           0.0010    1.181556e-06   \n1       0.008798      0.000401           0.0010    8.476443e-07   \n2       0.016600      0.010558           0.0010    2.002716e-06   \n3       0.009998      0.002099           0.0010    2.174712e-06   \n4       0.007998      0.000002           0.0012    4.002818e-04   \n\n  param_min_impurity_decrease                             params  \\\n0                      0.0001  {'min_impurity_decrease': 0.0001}   \n1                      0.0002  {'min_impurity_decrease': 0.0002}   \n2                      0.0003  {'min_impurity_decrease': 0.0003}   \n3                      0.0004  {'min_impurity_decrease': 0.0004}   \n4                      0.0005  {'min_impurity_decrease': 0.0005}   \n\n   split0_test_score  split1_test_score  split2_test_score  split3_test_score  \\\n0           0.869231           0.868269           0.882579           0.867180   \n1           0.871154           0.863462           0.876805           0.854668   \n2           0.869231           0.859615           0.875842           0.850818   \n3           0.869231           0.863462           0.881617           0.848893   \n4           0.865385           0.869231           0.882579           0.849856   \n\n   split4_test_score  mean_test_score  std_test_score  rank_test_score  \n0           0.853705         0.868193        0.009154                1  \n1           0.856593         0.864536        0.008437                5  \n2           0.869105         0.864922        0.008745                4  \n3           0.875842         0.867809        0.011260                2  \n4           0.871030         0.867616        0.010570                3  ",
      "text/html": "<div>\n<style scoped>\n    .dataframe tbody tr th:only-of-type {\n        vertical-align: middle;\n    }\n\n    .dataframe tbody tr th {\n        vertical-align: top;\n    }\n\n    .dataframe thead th {\n        text-align: right;\n    }\n</style>\n<table border=\"1\" class=\"dataframe\">\n  <thead>\n    <tr style=\"text-align: right;\">\n      <th></th>\n      <th>mean_fit_time</th>\n      <th>std_fit_time</th>\n      <th>mean_score_time</th>\n      <th>std_score_time</th>\n      <th>param_min_impurity_decrease</th>\n      <th>params</th>\n      <th>split0_test_score</th>\n      <th>split1_test_score</th>\n      <th>split2_test_score</th>\n      <th>split3_test_score</th>\n      <th>split4_test_score</th>\n      <th>mean_test_score</th>\n      <th>std_test_score</th>\n      <th>rank_test_score</th>\n    </tr>\n  </thead>\n  <tbody>\n    <tr>\n      <th>0</th>\n      <td>0.009196</td>\n      <td>0.000748</td>\n      <td>0.0010</td>\n      <td>1.181556e-06</td>\n      <td>0.0001</td>\n      <td>{'min_impurity_decrease': 0.0001}</td>\n      <td>0.869231</td>\n      <td>0.868269</td>\n      <td>0.882579</td>\n      <td>0.867180</td>\n      <td>0.853705</td>\n      <td>0.868193</td>\n      <td>0.009154</td>\n      <td>1</td>\n    </tr>\n    <tr>\n      <th>1</th>\n      <td>0.008798</td>\n      <td>0.000401</td>\n      <td>0.0010</td>\n      <td>8.476443e-07</td>\n      <td>0.0002</td>\n      <td>{'min_impurity_decrease': 0.0002}</td>\n      <td>0.871154</td>\n      <td>0.863462</td>\n      <td>0.876805</td>\n      <td>0.854668</td>\n      <td>0.856593</td>\n      <td>0.864536</td>\n      <td>0.008437</td>\n      <td>5</td>\n    </tr>\n    <tr>\n      <th>2</th>\n      <td>0.016600</td>\n      <td>0.010558</td>\n      <td>0.0010</td>\n      <td>2.002716e-06</td>\n      <td>0.0003</td>\n      <td>{'min_impurity_decrease': 0.0003}</td>\n      <td>0.869231</td>\n      <td>0.859615</td>\n      <td>0.875842</td>\n      <td>0.850818</td>\n      <td>0.869105</td>\n      <td>0.864922</td>\n      <td>0.008745</td>\n      <td>4</td>\n    </tr>\n    <tr>\n      <th>3</th>\n      <td>0.009998</td>\n      <td>0.002099</td>\n      <td>0.0010</td>\n      <td>2.174712e-06</td>\n      <td>0.0004</td>\n      <td>{'min_impurity_decrease': 0.0004}</td>\n      <td>0.869231</td>\n      <td>0.863462</td>\n      <td>0.881617</td>\n      <td>0.848893</td>\n      <td>0.875842</td>\n      <td>0.867809</td>\n      <td>0.011260</td>\n      <td>2</td>\n    </tr>\n    <tr>\n      <th>4</th>\n      <td>0.007998</td>\n      <td>0.000002</td>\n      <td>0.0012</td>\n      <td>4.002818e-04</td>\n      <td>0.0005</td>\n      <td>{'min_impurity_decrease': 0.0005}</td>\n      <td>0.865385</td>\n      <td>0.869231</td>\n      <td>0.882579</td>\n      <td>0.849856</td>\n      <td>0.871030</td>\n      <td>0.867616</td>\n      <td>0.010570</td>\n      <td>3</td>\n    </tr>\n  </tbody>\n</table>\n</div>"
     },
     "execution_count": 26,
     "metadata": {},
     "output_type": "execute_result"
    }
   ]
  },
  {
   "cell_type": "code",
   "source": [
    "print(gs.best_params_)"
   ],
   "metadata": {
    "colab": {
     "base_uri": "https://localhost:8080/"
    },
    "id": "nDm7j2mjXqG1",
    "executionInfo": {
     "status": "ok",
     "timestamp": 1644576529876,
     "user_tz": -540,
     "elapsed": 28,
     "user": {
      "displayName": "김승겸/컴퓨터정보과",
      "photoUrl": "https://lh3.googleusercontent.com/a/default-user=s64",
      "userId": "09781216741207143561"
     }
    },
    "outputId": "ab1f2a8c-c2f2-4707-a999-ea28c89d05c3"
   },
   "execution_count": 27,
   "outputs": [
    {
     "name": "stdout",
     "output_type": "stream",
     "text": [
      "{'min_impurity_decrease': 0.0001}\n"
     ]
    }
   ]
  },
  {
   "cell_type": "code",
   "source": [
    "print(gs.cv_results_['mean_test_score'])"
   ],
   "metadata": {
    "colab": {
     "base_uri": "https://localhost:8080/"
    },
    "id": "2s701Q4JZlfx",
    "executionInfo": {
     "status": "ok",
     "timestamp": 1644576548409,
     "user_tz": -540,
     "elapsed": 402,
     "user": {
      "displayName": "김승겸/컴퓨터정보과",
      "photoUrl": "https://lh3.googleusercontent.com/a/default-user=s64",
      "userId": "09781216741207143561"
     }
    },
    "outputId": "f688b4b3-e3f0-42ff-b8a5-d7e7e2cb90df"
   },
   "execution_count": 28,
   "outputs": [
    {
     "name": "stdout",
     "output_type": "stream",
     "text": [
      "[0.86819297 0.86453617 0.86492226 0.86780891 0.86761605]\n"
     ]
    }
   ]
  },
  {
   "cell_type": "code",
   "source": [
    "params = {\n",
    "    'min_impurity_decrease' : np.arange(0.0001, 0.001, 0.0001),\n",
    "    'max_depth' : range(5,20,1),\n",
    "    'min_samples_split' : range(2, 100, 10)\n",
    "}"
   ],
   "metadata": {
    "id": "-vwEjHoUZqDJ"
   },
   "execution_count": 29,
   "outputs": []
  },
  {
   "cell_type": "code",
   "execution_count": 30,
   "outputs": [
    {
     "data": {
      "text/plain": "GridSearchCV(estimator=DecisionTreeClassifier(random_state=42), n_jobs=-1,\n             param_grid={'max_depth': range(5, 20),\n                         'min_impurity_decrease': array([0.0001, 0.0002, 0.0003, 0.0004, 0.0005, 0.0006, 0.0007, 0.0008,\n       0.0009]),\n                         'min_samples_split': range(2, 100, 10)})"
     },
     "execution_count": 30,
     "metadata": {},
     "output_type": "execute_result"
    }
   ],
   "source": [
    "dc = DecisionTreeClassifier(random_state=42)\n",
    "gs = GridSearchCV(dc, params, n_jobs=-1)\n",
    "gs.fit(train_x, target_x)"
   ],
   "metadata": {
    "collapsed": false,
    "pycharm": {
     "name": "#%%\n"
    }
   }
  },
  {
   "cell_type": "code",
   "execution_count": 31,
   "outputs": [
    {
     "name": "stdout",
     "output_type": "stream",
     "text": [
      "{'max_depth': 14, 'min_impurity_decrease': 0.0004, 'min_samples_split': 12}\n"
     ]
    }
   ],
   "source": [
    "print(gs.best_params_)"
   ],
   "metadata": {
    "collapsed": false,
    "pycharm": {
     "name": "#%%\n"
    }
   }
  },
  {
   "cell_type": "code",
   "execution_count": 32,
   "outputs": [
    {
     "name": "stdout",
     "output_type": "stream",
     "text": [
      "0.8683865773302731\n"
     ]
    }
   ],
   "source": [
    "print(np.max(gs.cv_results_['mean_test_score']))"
   ],
   "metadata": {
    "collapsed": false,
    "pycharm": {
     "name": "#%%\n"
    }
   }
  },
  {
   "cell_type": "code",
   "execution_count": 33,
   "outputs": [
    {
     "data": {
      "text/plain": "array([9, 2, 7, 5, 2, 5, 4, 6, 7, 6, 5, 3, 0, 2, 4, 9, 8, 2, 4, 5, 6, 7,\n       5, 2, 7, 7, 5, 8, 7, 6, 1, 0, 9, 0, 9, 9, 6, 9, 7, 7, 8, 4, 4, 5,\n       0, 9, 0, 0, 2, 8, 8, 5, 5, 0, 7, 1, 0, 7, 4, 1, 8, 8, 7, 6, 2, 9,\n       2, 7, 0, 0, 7, 0, 1, 6, 6, 8, 5, 8, 0, 1, 8, 5, 6, 8, 7, 2, 6, 4,\n       1, 7, 8, 5, 0, 8, 4, 6, 6, 3, 0, 8, 2, 3, 3, 2, 5, 8, 7, 5, 2, 3,\n       5, 0, 6, 1, 4, 1, 0, 5, 4, 3, 1, 0, 5, 8, 7, 1, 2, 5, 7, 4, 7, 0,\n       8, 7, 7, 8, 3, 0, 0, 0, 4, 7, 5, 8, 2, 6, 6, 4, 0, 3, 4, 4, 1, 9,\n       9, 1, 4, 3, 6, 4, 7, 0, 0, 4, 9, 1, 0, 4, 5, 9, 6, 7, 4, 8, 2, 9,\n       9, 6, 0, 7, 6, 1, 8, 6, 0, 8, 7, 5, 9, 3, 3, 9, 9, 1, 2, 2, 9, 5,\n       9, 1, 9, 2, 0, 8, 8, 7, 8, 6, 8, 1, 9, 2, 4, 5, 4, 6, 3, 3, 9, 7,\n       7, 6, 5, 5, 0, 0, 2, 1, 8, 1, 5, 9, 8, 7, 7, 2, 3, 1, 9, 5, 1, 5,\n       9, 0, 6, 8, 2, 0, 8, 4, 6, 2, 3, 4, 9, 8, 1, 9, 0, 6, 9, 7, 1, 1,\n       1, 6, 4, 3, 6, 3, 4, 6, 6, 7, 8, 0, 0, 0, 0, 6, 5, 2, 7, 7, 0, 2,\n       1, 1, 3, 9, 7, 6, 2, 3, 0, 4, 6, 8, 1, 6, 3, 7, 3, 3, 4, 4, 2, 2,\n       8, 8, 5, 0, 8, 7, 4, 6, 7, 1, 4, 5, 1, 0, 8, 2, 2, 9, 8, 2, 8, 8,\n       3, 1, 2, 7, 7, 2, 3, 6, 2, 8, 6, 2, 3, 0, 7, 2, 6, 6, 3, 2, 0, 3,\n       7, 5, 5, 2, 8, 5, 2, 4, 8, 0, 7, 1, 2, 8, 9, 4, 1, 9, 6, 3, 2, 7,\n       1, 5, 7, 3, 1, 0, 4, 6, 8, 5, 7, 0, 6, 1, 4, 5, 2, 7, 6, 7, 3, 5,\n       7, 7, 2, 7, 5, 9, 7, 3, 0, 9, 2, 7, 3, 0, 7, 1, 3, 9, 3, 5, 1, 1,\n       9, 6, 8, 3, 0, 6, 0, 8, 1, 2, 5, 1, 9, 5, 4, 1, 1, 2, 0, 0, 5, 3,\n       3, 5, 0, 9, 2, 7, 1, 2, 4, 3, 7, 6, 2, 9, 3, 6, 4, 7, 5, 3, 6, 9,\n       4, 8, 2, 2, 9, 3, 9, 1, 6, 5, 3, 3, 3, 4, 2, 9, 6, 2, 6, 0, 9, 8,\n       5, 9, 4, 2, 2, 2, 2, 2, 4, 5, 1, 8, 4, 0, 5, 5, 4, 9, 3, 1, 1, 6,\n       8, 6, 4, 8, 9, 0, 0, 6, 8, 5, 9, 6, 0, 2, 8, 6, 7, 3, 7, 5, 5, 8,\n       9, 3, 3, 9, 1, 3, 3, 9, 9, 1, 9, 1, 6, 6, 1, 8, 1, 0, 4, 0, 1, 5,\n       2, 6, 1, 5, 2, 0, 6, 8, 6, 4, 9, 7, 2, 7, 2, 9, 6, 6, 3, 6, 7, 5,\n       6, 2, 1, 7, 7, 0, 3, 5, 6, 2, 6, 2, 9, 9, 0, 2, 3, 0, 3, 4, 1, 8,\n       9, 4, 9, 0, 2, 0, 6, 9, 2, 2, 6, 1, 4, 2, 7, 4, 8, 2, 2, 8, 6, 9,\n       6, 2, 7, 6, 2, 6, 2, 5, 5, 0, 1, 9, 3, 6, 2, 3, 5, 8, 9, 6, 5, 1,\n       7, 6, 3, 4, 4, 1, 6, 7, 8, 6, 4, 8, 2, 1, 5, 5, 5, 9, 4, 2, 8, 3,\n       0, 9, 9, 5, 1, 3, 2, 6, 6, 4, 3, 1, 2, 6, 9, 2, 4, 3, 7, 8, 2, 8,\n       8, 8, 2, 5, 1, 7, 9, 8, 9, 5, 0, 3, 3, 6, 3, 0, 3, 9, 6, 4, 4, 8,\n       8, 0, 7, 5, 3, 6, 2, 3, 9, 1, 0, 1, 0, 1, 1, 3, 2, 1, 2, 9, 7, 1,\n       0, 5, 2, 5, 4, 0, 1, 8, 9, 7, 1, 2, 6, 3, 6, 6, 5, 8, 4, 4, 9, 3,\n       9, 8, 9, 3, 9, 9, 5, 9, 6, 8, 4, 7, 1, 6, 4, 3, 8, 8, 4, 3, 3, 5,\n       0, 9, 3, 4, 5, 6, 1, 0, 2, 3, 7, 9, 1, 2, 2, 9, 4, 5, 5, 9, 2, 9,\n       6, 7, 6, 1, 7, 2, 2, 9, 9, 7, 1, 3, 1, 3, 6, 8, 9, 0, 3, 4, 6, 2,\n       5, 3, 7, 9, 4, 1, 8, 8, 0, 4, 6, 9, 0, 6, 0, 2, 6, 7, 1, 8, 3, 6,\n       1, 9, 2, 9, 5, 5, 2, 2, 5, 3, 7, 2, 5, 6, 8, 8, 3, 2, 0, 4, 4, 2,\n       4, 2, 6, 8, 5, 2, 1, 1, 9, 7, 1, 6, 1, 1, 6, 5, 4, 6, 3, 0, 1, 3,\n       8, 2, 2, 4, 1, 5, 1, 4, 7, 7, 3, 6, 7, 6, 7, 4, 5, 2, 3, 1, 1, 6,\n       9, 3, 3, 9, 7, 9, 3, 3, 1, 6, 4, 1, 8, 0, 7, 7, 5, 8, 4, 9, 9, 4,\n       7, 5, 9, 9, 1, 2, 6, 5, 2, 9, 0, 4, 5, 4, 8, 8, 6, 2, 9, 9, 8, 8,\n       6, 8, 6, 0, 0, 1, 0, 9, 0, 6, 0, 5, 2, 7, 6, 0, 4, 5, 1, 4, 3, 1,\n       2, 3, 5, 2, 1, 6, 6, 2, 8, 9, 1, 5, 8, 1, 8, 6, 1, 2, 4, 9, 8, 1,\n       2, 7, 9, 8, 2, 5, 1, 0, 4, 4])"
     },
     "execution_count": 33,
     "metadata": {},
     "output_type": "execute_result"
    }
   ],
   "source": [
    "from scipy.stats import uniform, randint\n",
    "\n",
    "rgen = randint(0, 10)\n",
    "rgen.rvs(1000)"
   ],
   "metadata": {
    "collapsed": false,
    "pycharm": {
     "name": "#%%\n"
    }
   }
  },
  {
   "cell_type": "code",
   "execution_count": 34,
   "outputs": [
    {
     "data": {
      "text/plain": "(array([0, 1, 2, 3, 4, 5, 6, 7, 8, 9]),\n array([110, 111,  95,  82,  86,  95,  98, 128, 102,  93], dtype=int64))"
     },
     "execution_count": 34,
     "metadata": {},
     "output_type": "execute_result"
    }
   ],
   "source": [
    "np.unique(rgen.rvs(1000), return_counts=True)"
   ],
   "metadata": {
    "collapsed": false,
    "pycharm": {
     "name": "#%%\n"
    }
   }
  },
  {
   "cell_type": "code",
   "execution_count": 35,
   "outputs": [
    {
     "data": {
      "text/plain": "array([0.19320479, 0.68250553, 0.83613112, 0.32060179, 0.22846467,\n       0.23861339, 0.13586923, 0.98712842, 0.27510052, 0.46291134])"
     },
     "execution_count": 35,
     "metadata": {},
     "output_type": "execute_result"
    }
   ],
   "source": [
    "ugen = uniform(0, 1)\n",
    "ugen.rvs(10)"
   ],
   "metadata": {
    "collapsed": false,
    "pycharm": {
     "name": "#%%\n"
    }
   }
  },
  {
   "cell_type": "code",
   "execution_count": 36,
   "outputs": [
    {
     "data": {
      "text/plain": "RandomizedSearchCV(estimator=DecisionTreeClassifier(random_state=42),\n                   n_iter=100, n_jobs=-1,\n                   param_distributions={'max_depth': <scipy.stats._distn_infrastructure.rv_frozen object at 0x00000201DA585160>,\n                                        'min_impurity_decrease': <scipy.stats._distn_infrastructure.rv_frozen object at 0x00000201DA3D2F10>,\n                                        'min_samples_leaf': <scipy.stats._distn_infrastructure.rv_frozen object at 0x00000201DA585820>,\n                                        'min_samples_split': <scipy.stats._distn_infrastructure.rv_frozen object at 0x00000201DA4DD9A0>},\n                   random_state=42)"
     },
     "execution_count": 36,
     "metadata": {},
     "output_type": "execute_result"
    }
   ],
   "source": [
    "params = {\n",
    "    'min_impurity_decrease' : uniform(0.0001, 0.001),\n",
    "    'max_depth' : randint(20, 50),\n",
    "    'min_samples_split' : randint(2, 25),\n",
    "    'min_samples_leaf' : randint(2,25)\n",
    "}\n",
    "\n",
    "from sklearn.model_selection import RandomizedSearchCV\n",
    "\n",
    "gs = RandomizedSearchCV(DecisionTreeClassifier(random_state=42), params, n_iter=100, n_jobs=-1, random_state=42)\n",
    "\n",
    "gs.fit(train_x, target_x)"
   ],
   "metadata": {
    "collapsed": false,
    "pycharm": {
     "name": "#%%\n"
    }
   }
  },
  {
   "cell_type": "code",
   "execution_count": 37,
   "outputs": [
    {
     "name": "stdout",
     "output_type": "stream",
     "text": [
      "{'max_depth': 41, 'min_impurity_decrease': 0.0003439896433790836, 'min_samples_leaf': 7, 'min_samples_split': 7}\n"
     ]
    }
   ],
   "source": [
    "print(gs.best_params_)"
   ],
   "metadata": {
    "collapsed": false,
    "pycharm": {
     "name": "#%%\n"
    }
   }
  },
  {
   "cell_type": "code",
   "execution_count": 38,
   "outputs": [],
   "source": [
    "gs_df = pd.DataFrame(gs.cv_results_)"
   ],
   "metadata": {
    "collapsed": false,
    "pycharm": {
     "name": "#%%\n"
    }
   }
  },
  {
   "cell_type": "code",
   "execution_count": 39,
   "outputs": [
    {
     "data": {
      "text/plain": "    mean_fit_time  std_fit_time  mean_score_time  std_score_time  \\\n0        0.008802      0.000401         0.001000    1.910922e-06   \n1        0.008801      0.000401         0.001203    3.989377e-04   \n2        0.009399      0.000801         0.001200    4.008059e-04   \n3        0.008800      0.000399         0.001201    4.003787e-04   \n4        0.008999      0.000631         0.001201    3.985434e-04   \n..            ...           ...              ...             ...   \n95       0.008199      0.000401         0.001001    2.879244e-06   \n96       0.008400      0.000800         0.001000    5.722046e-07   \n97       0.010600      0.000491         0.001400    4.903501e-04   \n98       0.009199      0.000399         0.001200    3.999493e-04   \n99       0.008799      0.000401         0.000600    4.896290e-04   \n\n   param_max_depth param_min_impurity_decrease param_min_samples_leaf  \\\n0               26                    0.000897                     16   \n1               27                    0.000699                      8   \n2               42                    0.000158                     22   \n3               27                    0.000808                     23   \n4               21                    0.000822                      7   \n..             ...                         ...                    ...   \n95              47                    0.000679                     24   \n96              38                    0.000566                     23   \n97              36                    0.000137                      7   \n98              41                    0.000637                      6   \n99              27                     0.00087                     13   \n\n   param_min_samples_split                                             params  \\\n0                       12  {'max_depth': 26, 'min_impurity_decrease': 0.0...   \n1                       20  {'max_depth': 27, 'min_impurity_decrease': 0.0...   \n2                        5  {'max_depth': 42, 'min_impurity_decrease': 0.0...   \n3                       22  {'max_depth': 27, 'min_impurity_decrease': 0.0...   \n4                        3  {'max_depth': 21, 'min_impurity_decrease': 0.0...   \n..                     ...                                                ...   \n95                      23  {'max_depth': 47, 'min_impurity_decrease': 0.0...   \n96                      23  {'max_depth': 38, 'min_impurity_decrease': 0.0...   \n97                      16  {'max_depth': 36, 'min_impurity_decrease': 0.0...   \n98                       2  {'max_depth': 41, 'min_impurity_decrease': 0.0...   \n99                      13  {'max_depth': 27, 'min_impurity_decrease': 0.0...   \n\n    split0_test_score  split1_test_score  split2_test_score  \\\n0            0.847115           0.869231           0.884504   \n1            0.857692           0.871154           0.884504   \n2            0.861538           0.873077           0.884504   \n3            0.846154           0.870192           0.881617   \n4            0.856731           0.871154           0.881617   \n..                ...                ...                ...   \n95           0.847115           0.870192           0.883542   \n96           0.850962           0.870192           0.886429   \n97           0.860577           0.856731           0.876805   \n98           0.858654           0.870192           0.886429   \n99           0.857692           0.870192           0.882579   \n\n    split3_test_score  split4_test_score  mean_test_score  std_test_score  \\\n0            0.849856           0.866218         0.863385        0.013682   \n1            0.848893           0.850818         0.862612        0.013444   \n2            0.848893           0.860443         0.865691        0.012128   \n3            0.845043           0.866218         0.861845        0.014200   \n4            0.850818           0.850818         0.862228        0.012216   \n..                ...                ...              ...             ...   \n95           0.850818           0.856593         0.861652        0.013464   \n96           0.848893           0.856593         0.862614        0.014035   \n97           0.856593           0.861405         0.862422        0.007452   \n98           0.851781           0.851781         0.863767        0.013178   \n99           0.849856           0.865255         0.865115        0.011124   \n\n    rank_test_score  \n0                44  \n1                65  \n2                18  \n3                75  \n4                71  \n..              ...  \n95               85  \n96               59  \n97               66  \n98               39  \n99               20  \n\n[100 rows x 17 columns]",
      "text/html": "<div>\n<style scoped>\n    .dataframe tbody tr th:only-of-type {\n        vertical-align: middle;\n    }\n\n    .dataframe tbody tr th {\n        vertical-align: top;\n    }\n\n    .dataframe thead th {\n        text-align: right;\n    }\n</style>\n<table border=\"1\" class=\"dataframe\">\n  <thead>\n    <tr style=\"text-align: right;\">\n      <th></th>\n      <th>mean_fit_time</th>\n      <th>std_fit_time</th>\n      <th>mean_score_time</th>\n      <th>std_score_time</th>\n      <th>param_max_depth</th>\n      <th>param_min_impurity_decrease</th>\n      <th>param_min_samples_leaf</th>\n      <th>param_min_samples_split</th>\n      <th>params</th>\n      <th>split0_test_score</th>\n      <th>split1_test_score</th>\n      <th>split2_test_score</th>\n      <th>split3_test_score</th>\n      <th>split4_test_score</th>\n      <th>mean_test_score</th>\n      <th>std_test_score</th>\n      <th>rank_test_score</th>\n    </tr>\n  </thead>\n  <tbody>\n    <tr>\n      <th>0</th>\n      <td>0.008802</td>\n      <td>0.000401</td>\n      <td>0.001000</td>\n      <td>1.910922e-06</td>\n      <td>26</td>\n      <td>0.000897</td>\n      <td>16</td>\n      <td>12</td>\n      <td>{'max_depth': 26, 'min_impurity_decrease': 0.0...</td>\n      <td>0.847115</td>\n      <td>0.869231</td>\n      <td>0.884504</td>\n      <td>0.849856</td>\n      <td>0.866218</td>\n      <td>0.863385</td>\n      <td>0.013682</td>\n      <td>44</td>\n    </tr>\n    <tr>\n      <th>1</th>\n      <td>0.008801</td>\n      <td>0.000401</td>\n      <td>0.001203</td>\n      <td>3.989377e-04</td>\n      <td>27</td>\n      <td>0.000699</td>\n      <td>8</td>\n      <td>20</td>\n      <td>{'max_depth': 27, 'min_impurity_decrease': 0.0...</td>\n      <td>0.857692</td>\n      <td>0.871154</td>\n      <td>0.884504</td>\n      <td>0.848893</td>\n      <td>0.850818</td>\n      <td>0.862612</td>\n      <td>0.013444</td>\n      <td>65</td>\n    </tr>\n    <tr>\n      <th>2</th>\n      <td>0.009399</td>\n      <td>0.000801</td>\n      <td>0.001200</td>\n      <td>4.008059e-04</td>\n      <td>42</td>\n      <td>0.000158</td>\n      <td>22</td>\n      <td>5</td>\n      <td>{'max_depth': 42, 'min_impurity_decrease': 0.0...</td>\n      <td>0.861538</td>\n      <td>0.873077</td>\n      <td>0.884504</td>\n      <td>0.848893</td>\n      <td>0.860443</td>\n      <td>0.865691</td>\n      <td>0.012128</td>\n      <td>18</td>\n    </tr>\n    <tr>\n      <th>3</th>\n      <td>0.008800</td>\n      <td>0.000399</td>\n      <td>0.001201</td>\n      <td>4.003787e-04</td>\n      <td>27</td>\n      <td>0.000808</td>\n      <td>23</td>\n      <td>22</td>\n      <td>{'max_depth': 27, 'min_impurity_decrease': 0.0...</td>\n      <td>0.846154</td>\n      <td>0.870192</td>\n      <td>0.881617</td>\n      <td>0.845043</td>\n      <td>0.866218</td>\n      <td>0.861845</td>\n      <td>0.014200</td>\n      <td>75</td>\n    </tr>\n    <tr>\n      <th>4</th>\n      <td>0.008999</td>\n      <td>0.000631</td>\n      <td>0.001201</td>\n      <td>3.985434e-04</td>\n      <td>21</td>\n      <td>0.000822</td>\n      <td>7</td>\n      <td>3</td>\n      <td>{'max_depth': 21, 'min_impurity_decrease': 0.0...</td>\n      <td>0.856731</td>\n      <td>0.871154</td>\n      <td>0.881617</td>\n      <td>0.850818</td>\n      <td>0.850818</td>\n      <td>0.862228</td>\n      <td>0.012216</td>\n      <td>71</td>\n    </tr>\n    <tr>\n      <th>...</th>\n      <td>...</td>\n      <td>...</td>\n      <td>...</td>\n      <td>...</td>\n      <td>...</td>\n      <td>...</td>\n      <td>...</td>\n      <td>...</td>\n      <td>...</td>\n      <td>...</td>\n      <td>...</td>\n      <td>...</td>\n      <td>...</td>\n      <td>...</td>\n      <td>...</td>\n      <td>...</td>\n      <td>...</td>\n    </tr>\n    <tr>\n      <th>95</th>\n      <td>0.008199</td>\n      <td>0.000401</td>\n      <td>0.001001</td>\n      <td>2.879244e-06</td>\n      <td>47</td>\n      <td>0.000679</td>\n      <td>24</td>\n      <td>23</td>\n      <td>{'max_depth': 47, 'min_impurity_decrease': 0.0...</td>\n      <td>0.847115</td>\n      <td>0.870192</td>\n      <td>0.883542</td>\n      <td>0.850818</td>\n      <td>0.856593</td>\n      <td>0.861652</td>\n      <td>0.013464</td>\n      <td>85</td>\n    </tr>\n    <tr>\n      <th>96</th>\n      <td>0.008400</td>\n      <td>0.000800</td>\n      <td>0.001000</td>\n      <td>5.722046e-07</td>\n      <td>38</td>\n      <td>0.000566</td>\n      <td>23</td>\n      <td>23</td>\n      <td>{'max_depth': 38, 'min_impurity_decrease': 0.0...</td>\n      <td>0.850962</td>\n      <td>0.870192</td>\n      <td>0.886429</td>\n      <td>0.848893</td>\n      <td>0.856593</td>\n      <td>0.862614</td>\n      <td>0.014035</td>\n      <td>59</td>\n    </tr>\n    <tr>\n      <th>97</th>\n      <td>0.010600</td>\n      <td>0.000491</td>\n      <td>0.001400</td>\n      <td>4.903501e-04</td>\n      <td>36</td>\n      <td>0.000137</td>\n      <td>7</td>\n      <td>16</td>\n      <td>{'max_depth': 36, 'min_impurity_decrease': 0.0...</td>\n      <td>0.860577</td>\n      <td>0.856731</td>\n      <td>0.876805</td>\n      <td>0.856593</td>\n      <td>0.861405</td>\n      <td>0.862422</td>\n      <td>0.007452</td>\n      <td>66</td>\n    </tr>\n    <tr>\n      <th>98</th>\n      <td>0.009199</td>\n      <td>0.000399</td>\n      <td>0.001200</td>\n      <td>3.999493e-04</td>\n      <td>41</td>\n      <td>0.000637</td>\n      <td>6</td>\n      <td>2</td>\n      <td>{'max_depth': 41, 'min_impurity_decrease': 0.0...</td>\n      <td>0.858654</td>\n      <td>0.870192</td>\n      <td>0.886429</td>\n      <td>0.851781</td>\n      <td>0.851781</td>\n      <td>0.863767</td>\n      <td>0.013178</td>\n      <td>39</td>\n    </tr>\n    <tr>\n      <th>99</th>\n      <td>0.008799</td>\n      <td>0.000401</td>\n      <td>0.000600</td>\n      <td>4.896290e-04</td>\n      <td>27</td>\n      <td>0.00087</td>\n      <td>13</td>\n      <td>13</td>\n      <td>{'max_depth': 27, 'min_impurity_decrease': 0.0...</td>\n      <td>0.857692</td>\n      <td>0.870192</td>\n      <td>0.882579</td>\n      <td>0.849856</td>\n      <td>0.865255</td>\n      <td>0.865115</td>\n      <td>0.011124</td>\n      <td>20</td>\n    </tr>\n  </tbody>\n</table>\n<p>100 rows × 17 columns</p>\n</div>"
     },
     "execution_count": 39,
     "metadata": {},
     "output_type": "execute_result"
    }
   ],
   "source": [
    "gs_df"
   ],
   "metadata": {
    "collapsed": false,
    "pycharm": {
     "name": "#%%\n"
    }
   }
  },
  {
   "cell_type": "code",
   "execution_count": 40,
   "outputs": [
    {
     "data": {
      "text/plain": "count    100.000000\nmean       0.863587\nstd        0.002169\nmin        0.859535\n25%        0.861845\n50%        0.863190\n75%        0.864395\nmax        0.869543\nName: mean_test_score, dtype: float64"
     },
     "execution_count": 40,
     "metadata": {},
     "output_type": "execute_result"
    }
   ],
   "source": [
    "gs_df['mean_test_score'].describe()"
   ],
   "metadata": {
    "collapsed": false,
    "pycharm": {
     "name": "#%%\n"
    }
   }
  },
  {
   "cell_type": "code",
   "execution_count": 41,
   "outputs": [],
   "source": [
    "dt = gs.best_estimator_"
   ],
   "metadata": {
    "collapsed": false,
    "pycharm": {
     "name": "#%%\n"
    }
   }
  },
  {
   "cell_type": "code",
   "execution_count": 42,
   "outputs": [
    {
     "name": "stdout",
     "output_type": "stream",
     "text": [
      "0.9\n"
     ]
    }
   ],
   "source": [
    "print(dt.score(val_input, val_target))"
   ],
   "metadata": {
    "collapsed": false,
    "pycharm": {
     "name": "#%%\n"
    }
   }
  },
  {
   "cell_type": "code",
   "execution_count": 42,
   "outputs": [],
   "source": [],
   "metadata": {
    "collapsed": false,
    "pycharm": {
     "name": "#%%\n"
    }
   }
  }
 ]
}